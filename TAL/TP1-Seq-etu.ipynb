{
 "cells": [
  {
   "cell_type": "markdown",
   "metadata": {},
   "source": [
    "# TP sur l'analyse de phrase par HMM\n",
    "\n",
    "Le but de ce tp est de reprendre les modèles développés en MAPSI pour les appliquer sur un problème d'analyse de séqences.\n",
    "Nous allons travailler sur le Part-Of-Speech (POS) et optionnellement sur le chunking (le fait de regrouper les groupes nominaux et verbaux dans les phrases). Les données sont issus de CONLL 2000 [https://www.clips.uantwerpen.be/conll2000/chunking/]\n",
    "\n",
    "Les données sont disponibles en petite quantité (pour comprendre le fonctionnement des outils) puis en grande quantité pour effecter des expériences fiables.\n",
    "\n",
    "Le but du TP est de prendre en main les données sur une tâche simple (POS/Chunking) puis de donner des perforances sur la tâche de NER. Cette dernière partie est décrite dans l'avant dernière boite de ce TME, elle constitue cependant la plus grosse partie du travail.\n"
   ]
  },
  {
   "cell_type": "code",
   "execution_count": 44,
   "metadata": {},
   "outputs": [],
   "source": [
    "import numpy as np\n",
    "import matplotlib.pyplot as plt"
   ]
  },
  {
   "cell_type": "code",
   "execution_count": 45,
   "metadata": {},
   "outputs": [],
   "source": [
    "# Chargement des données POS/Chunking\n",
    "# Cette fonction doit être ré-écrite en v2 pour charger les données NER de connl 2003\n",
    "def load(filename):\n",
    "    listeDoc = list()\n",
    "    with open(filename, \"r\") as f:\n",
    "        doc = list()\n",
    "        for ligne in f:\n",
    "            #print \"l : \",len(ligne),\" \",ligne\n",
    "            if len(ligne) < 2: # fin de doc\n",
    "                listeDoc.append(doc)\n",
    "                doc = list()\n",
    "                continue\n",
    "            mots = ligne.replace(\"\\n\",\"\").split(\" \")\n",
    "            doc.append((mots[0],mots[1])) # mettre mots[2] à la place de mots[1] pour le chuncking\n",
    "    return listeDoc"
   ]
  },
  {
   "cell_type": "code",
   "execution_count": 46,
   "metadata": {},
   "outputs": [
    {
     "name": "stdout",
     "output_type": "stream",
     "text": [
      "823  docs read\n",
      "77  docs (T) read\n"
     ]
    }
   ],
   "source": [
    "# =============== chargement ============\n",
    "# sous ensemble du corpus => Idéal pour les premiers test\n",
    "filename = \"ressources/conll2000/chtrain.txt\" \n",
    "filenameT = \"ressources/conll2000/chtest.txt\" \n",
    "\n",
    "# corpus plus gros => Pour valider les perf.\n",
    "# filename = \"ressources/conll2000/train.txt\" \n",
    "# filenameT = \"ressources/conll2000/test.txt\" \n",
    "\n",
    "alldocs = load(filename)\n",
    "alldocsT = load(filenameT)\n",
    "\n",
    "print(len(alldocs),\" docs read\")\n",
    "print(len(alldocsT),\" docs (T) read\")"
   ]
  },
  {
   "cell_type": "code",
   "execution_count": 47,
   "metadata": {},
   "outputs": [
    {
     "name": "stdout",
     "output_type": "stream",
     "text": [
      "[('Rockwell', 'NNP'), ('International', 'NNP'), ('Corp.', 'NNP'), (\"'s\", 'POS'), ('Tulsa', 'NNP'), ('unit', 'NN'), ('said', 'VBD'), ('it', 'PRP'), ('signed', 'VBD'), ('a', 'DT'), ('tentative', 'JJ'), ('agreement', 'NN'), ('extending', 'VBG'), ('its', 'PRP$'), ('contract', 'NN'), ('with', 'IN'), ('Boeing', 'NNP'), ('Co.', 'NNP'), ('to', 'TO'), ('provide', 'VB'), ('structural', 'JJ'), ('parts', 'NNS'), ('for', 'IN'), ('Boeing', 'NNP'), (\"'s\", 'POS'), ('747', 'CD'), ('jetliners', 'NNS'), ('.', '.')]\n"
     ]
    }
   ],
   "source": [
    "print(alldocs[0])"
   ]
  },
  {
   "cell_type": "code",
   "execution_count": 48,
   "metadata": {},
   "outputs": [
    {
     "name": "stdout",
     "output_type": "stream",
     "text": [
      "[('Confidence', 'NN'), ('in', 'IN'), ('the', 'DT'), ('pound', 'NN'), ('is', 'VBZ'), ('widely', 'RB'), ('expected', 'VBN'), ('to', 'TO'), ('take', 'VB'), ('another', 'DT'), ('sharp', 'JJ'), ('dive', 'NN'), ('if', 'IN'), ('trade', 'NN'), ('figures', 'NNS'), ('for', 'IN'), ('September', 'NNP'), (',', ','), ('due', 'JJ'), ('for', 'IN'), ('release', 'NN'), ('tomorrow', 'NN'), (',', ','), ('fail', 'VB'), ('to', 'TO'), ('show', 'VB'), ('a', 'DT'), ('substantial', 'JJ'), ('improvement', 'NN'), ('from', 'IN'), ('July', 'NNP'), ('and', 'CC'), ('August', 'NNP'), (\"'s\", 'POS'), ('near-record', 'JJ'), ('deficits', 'NNS'), ('.', '.')]\n"
     ]
    }
   ],
   "source": [
    "print(alldocsT[0])"
   ]
  },
  {
   "cell_type": "markdown",
   "metadata": {},
   "source": [
    "# Construction d'un modèle de référence POS à base de dictionnaire\n",
    "\n",
    "```mot => étiquette``` sans prise en compte de la séquence. Il faudra comparer tout résultat plus lourd à cette référence.\n",
    "\n",
    "On ne s'intéresse qu'à l'étiquette POS, sachant que le corpus a été décomposé en ```(mot, POS, Chunk)```.\n",
    "\n",
    "1. Création du dictionnaire d'équivalence à partir du *train*\n",
    "1. Mesure de l'efficacité en *test*\n",
    "\n",
    "**Note** certains mots du test sont évidemment inconnus... Sur le plan technique, il faut remplacer:\n",
    "```\n",
    "# remplacer\n",
    "dico[cle] # qui plante en cas de clé inconnue\n",
    "# par \n",
    "dico.get(cle, valeurParDefaut)\n",
    "```\n",
    "Sur le plan linguistique, on peut affecter la classe majoritaire à tous les mots inconnus, on aura alors une référence plus forte."
   ]
  },
  {
   "cell_type": "code",
   "execution_count": 49,
   "metadata": {},
   "outputs": [],
   "source": [
    "# Construction du dictionnaire \n",
    "dico = {alldocs[i][j][0]:alldocs[i][j][1] for i in range (len(alldocs)) for j in range (len(alldocs[i]))}"
   ]
  },
  {
   "cell_type": "code",
   "execution_count": 50,
   "metadata": {},
   "outputs": [
    {
     "data": {
      "text/plain": [
       "4569"
      ]
     },
     "execution_count": 50,
     "metadata": {},
     "output_type": "execute_result"
    }
   ],
   "source": [
    "len(dico)"
   ]
  },
  {
   "cell_type": "code",
   "execution_count": 51,
   "metadata": {},
   "outputs": [
    {
     "data": {
      "text/plain": [
       "1527"
      ]
     },
     "execution_count": 51,
     "metadata": {},
     "output_type": "execute_result"
    }
   ],
   "source": [
    "# evaluation des performances en test (et en apprentissage)\n",
    "res = 0\n",
    "for alldoc in alldocsT:\n",
    "    for t in alldoc:\n",
    "        if t[1] == dico.get(t[0], 'NN'):\n",
    "            res+=1          \n",
    "res"
   ]
  },
  {
   "cell_type": "code",
   "execution_count": 52,
   "metadata": {},
   "outputs": [
    {
     "data": {
      "text/plain": [
       "{'Rockwell': 'NNP',\n",
       " 'International': 'NNP',\n",
       " 'Corp.': 'NNP',\n",
       " \"'s\": 'POS',\n",
       " 'Tulsa': 'NNP',\n",
       " 'unit': 'NN',\n",
       " 'said': 'VBD',\n",
       " 'it': 'PRP',\n",
       " 'signed': 'VBD',\n",
       " 'a': 'DT',\n",
       " 'tentative': 'JJ',\n",
       " 'agreement': 'NN',\n",
       " 'extending': 'VBG',\n",
       " 'its': 'PRP$',\n",
       " 'contract': 'NN',\n",
       " 'with': 'IN',\n",
       " 'Boeing': 'NNP',\n",
       " 'Co.': 'NNP',\n",
       " 'to': 'TO',\n",
       " 'provide': 'VB',\n",
       " 'structural': 'JJ',\n",
       " 'parts': 'NNS',\n",
       " 'for': 'IN',\n",
       " '747': 'CD',\n",
       " 'jetliners': 'NNS',\n",
       " '.': '.',\n",
       " 'the': 'DT',\n",
       " 'calls': 'VBZ',\n",
       " 'supply': 'VB',\n",
       " '200': 'CD',\n",
       " 'additional': 'JJ',\n",
       " 'so-called': 'JJ',\n",
       " 'shipsets': 'NNS',\n",
       " 'planes': 'NNS',\n",
       " 'These': 'DT',\n",
       " 'include': 'VBP',\n",
       " ',': ',',\n",
       " 'among': 'IN',\n",
       " 'other': 'JJ',\n",
       " 'each': 'DT',\n",
       " 'jetliner': 'NN',\n",
       " 'two': 'CD',\n",
       " 'major': 'JJ',\n",
       " 'bulkheads': 'NNS',\n",
       " 'pressure': 'NN',\n",
       " 'floor': 'NN',\n",
       " 'torque': 'NN',\n",
       " 'box': 'NN',\n",
       " 'fixed': 'VBN',\n",
       " 'leading': 'VBG',\n",
       " 'edges': 'NNS',\n",
       " 'wings': 'NNS',\n",
       " 'and': 'CC',\n",
       " 'an': 'DT',\n",
       " 'aft': 'JJ',\n",
       " 'keel': 'NN',\n",
       " 'beam': 'NN',\n",
       " 'Under': 'IN',\n",
       " 'existing': 'VBG',\n",
       " 'has': 'VBZ',\n",
       " 'already': 'RB',\n",
       " 'delivered': 'VBN',\n",
       " '793': 'CD',\n",
       " 'of': 'IN',\n",
       " 'based': 'VBN',\n",
       " 'in': 'IN',\n",
       " 'El': 'NNP',\n",
       " 'Segundo': 'NNP',\n",
       " 'Calif.': 'NNP',\n",
       " 'is': 'VBZ',\n",
       " 'aerospace': 'NN',\n",
       " 'electronics': 'NNS',\n",
       " 'automotive': 'JJ',\n",
       " 'graphics': 'NNS',\n",
       " 'concern': 'NN',\n",
       " 'Frank': 'NNP',\n",
       " 'Carlucci': 'NNP',\n",
       " 'III': 'NNP',\n",
       " 'was': 'VBD',\n",
       " 'named': 'VBN',\n",
       " 'this': 'DT',\n",
       " 'telecommunications': 'NNS',\n",
       " 'company': 'NN',\n",
       " 'board': 'NN',\n",
       " 'filling': 'VBG',\n",
       " 'vacancy': 'NN',\n",
       " 'created': 'VBD',\n",
       " 'by': 'IN',\n",
       " 'death': 'NN',\n",
       " 'William': 'NNP',\n",
       " 'Sobey': 'NNP',\n",
       " 'last': 'JJ',\n",
       " 'May': 'NNP',\n",
       " 'Mr.': 'NNP',\n",
       " '59': 'CD',\n",
       " 'years': 'NNS',\n",
       " 'old': 'JJ',\n",
       " 'served': 'VBN',\n",
       " 'as': 'IN',\n",
       " 'defense': 'NN',\n",
       " 'secretary': 'NN',\n",
       " 'Reagan': 'NNP',\n",
       " 'administration': 'NN',\n",
       " 'In': 'IN',\n",
       " 'January': 'NNP',\n",
       " 'he': 'PRP',\n",
       " 'accepted': 'VBN',\n",
       " 'position': 'NN',\n",
       " 'vice': 'NN',\n",
       " 'chairman': 'NN',\n",
       " 'Carlyle': 'NNP',\n",
       " 'Group': 'NNP',\n",
       " 'merchant': 'NN',\n",
       " 'banking': 'NN',\n",
       " 'SHEARSON': 'NNP',\n",
       " 'LEHMAN': 'NNP',\n",
       " 'HUTTON': 'NNP',\n",
       " 'Inc': 'NNP',\n",
       " 'Thomas': 'NNP',\n",
       " 'E.': 'NNP',\n",
       " 'Meador': 'NNP',\n",
       " '42': 'CD',\n",
       " 'president': 'NN',\n",
       " 'chief': 'JJ',\n",
       " 'operating': 'VBG',\n",
       " 'officer': 'NN',\n",
       " 'Balcor': 'NNP',\n",
       " 'Skokie': 'NNP',\n",
       " 'Ill.': 'NNP',\n",
       " 'subsidiary': 'NN',\n",
       " 'New': 'NNP',\n",
       " 'York': 'NNP',\n",
       " 'investment': 'NN',\n",
       " 'firm': 'NN',\n",
       " 'which': 'WDT',\n",
       " 'interests': 'NNS',\n",
       " 'real': 'JJ',\n",
       " 'estate': 'NN',\n",
       " 'newly': 'RB',\n",
       " 'had': 'VBN',\n",
       " 'been': 'VBN',\n",
       " 'executive': 'JJ',\n",
       " 'addition': 'NN',\n",
       " 'his': 'PRP$',\n",
       " 'previous': 'JJ',\n",
       " 'real-estate': 'NN',\n",
       " 'asset-management': 'NN',\n",
       " 'duties': 'NNS',\n",
       " 'takes': 'VBZ',\n",
       " 'responsibility': 'NN',\n",
       " 'development': 'NN',\n",
       " 'property': 'NN',\n",
       " 'management': 'NN',\n",
       " 'Those': 'DT',\n",
       " 'held': 'VBN',\n",
       " 'Van': 'NNP',\n",
       " 'Pell': 'NNP',\n",
       " '44': 'CD',\n",
       " 'who': 'WP',\n",
       " 'resigned': 'VBD',\n",
       " 'Shearson': 'NNP',\n",
       " 'about': 'IN',\n",
       " '60%-held': 'JJ',\n",
       " 'American': 'NNP',\n",
       " 'Express': 'NNP',\n",
       " 'Co': 'NNP',\n",
       " 'Great': 'NNP',\n",
       " 'Bank': 'NNP',\n",
       " 'citing': 'VBG',\n",
       " 'depressed': 'JJ',\n",
       " 'Arizona': 'NNP',\n",
       " 'prices': 'NNS',\n",
       " 'posted': 'VBD',\n",
       " 'third-quarter': 'JJ',\n",
       " 'loss': 'NN',\n",
       " '$': '$',\n",
       " '59.4': 'CD',\n",
       " 'million': 'CD',\n",
       " 'or': 'CC',\n",
       " '2.48': 'CD',\n",
       " 'share': 'NN',\n",
       " 'A': 'DT',\n",
       " 'year': 'NN',\n",
       " 'earlier': 'RBR',\n",
       " 'savings': 'NNS',\n",
       " 'bank': 'NN',\n",
       " 'earnings': 'NNS',\n",
       " '8.1': 'CD',\n",
       " '33': 'CD',\n",
       " 'cents': 'NNS',\n",
       " 'For': 'IN',\n",
       " 'nine': 'CD',\n",
       " 'months': 'NNS',\n",
       " '58.3': 'CD',\n",
       " '2.44': 'CD',\n",
       " 'after': 'IN',\n",
       " '29.5': 'CD',\n",
       " '1.20': 'CD',\n",
       " '1988': 'CD',\n",
       " 'period': 'NN',\n",
       " 'increased': 'VBD',\n",
       " 'loan-loss': 'NN',\n",
       " 'reserves': 'NNS',\n",
       " '93': 'CD',\n",
       " 'reviewing': 'VBG',\n",
       " 'loan': 'NN',\n",
       " 'portfolio': 'NN',\n",
       " 'raising': 'VBG',\n",
       " 'total': 'JJ',\n",
       " '217': 'CD',\n",
       " 'Before': 'IN',\n",
       " 'profit': 'NN',\n",
       " '10': 'CD',\n",
       " 'quarter': 'NN',\n",
       " 'The': 'DT',\n",
       " 'move': 'NN',\n",
       " 'followed': 'VBN',\n",
       " 'round': 'NN',\n",
       " 'similar': 'JJ',\n",
       " 'increases': 'NNS',\n",
       " 'lenders': 'NNS',\n",
       " 'against': 'IN',\n",
       " 'loans': 'NNS',\n",
       " 'reflecting': 'VBG',\n",
       " 'continuing': 'VBG',\n",
       " 'decline': 'VB',\n",
       " 'that': 'WDT',\n",
       " 'market': 'NN',\n",
       " 'reserve': 'NN',\n",
       " 'took': 'VBD',\n",
       " 'special': 'JJ',\n",
       " 'charge': 'NN',\n",
       " '5': 'NN',\n",
       " 'representing': 'VBG',\n",
       " 'general': 'JJ',\n",
       " 'administrative': 'JJ',\n",
       " 'expenses': 'NNS',\n",
       " 'from': 'IN',\n",
       " 'staff': 'NN',\n",
       " 'reductions': 'NNS',\n",
       " 'matters': 'NNS',\n",
       " '7.6': 'CD',\n",
       " 'reduction': 'NN',\n",
       " 'expected': 'VBN',\n",
       " 'mortgage': 'NN',\n",
       " 'servicing': 'NN',\n",
       " 'fees': 'NNS',\n",
       " 'fact': 'NN',\n",
       " 'more': 'JJR',\n",
       " 'borrowers': 'NNS',\n",
       " 'are': 'VBP',\n",
       " 'prepaying': 'VBG',\n",
       " 'their': 'PRP$',\n",
       " 'mortgages': 'NNS',\n",
       " 'Arbitragers': 'NNS',\n",
       " 'were': 'VBD',\n",
       " \"n't\": 'RB',\n",
       " 'only': 'RB',\n",
       " 'big': 'JJ',\n",
       " 'losers': 'NNS',\n",
       " 'collapse': 'VB',\n",
       " 'UAL': 'NNP',\n",
       " 'stock': 'NN',\n",
       " 'Look': 'VB',\n",
       " 'at': 'IN',\n",
       " 'what': 'WP',\n",
       " 'happened': 'VBD',\n",
       " 'Stephen': 'NNP',\n",
       " 'M.': 'NNP',\n",
       " 'Wolf': 'NNP',\n",
       " 'financial': 'JJ',\n",
       " 'John': 'NNP',\n",
       " 'C.': 'NNP',\n",
       " 'Pope': 'NNP',\n",
       " 'On': 'IN',\n",
       " 'day': 'NN',\n",
       " 'some': 'DT',\n",
       " 'United': 'NNP',\n",
       " 'Airlines': 'NNPS',\n",
       " 'employees': 'NNS',\n",
       " 'wanted': 'VBD',\n",
       " 'fired': 'VBD',\n",
       " 'takeover': 'NN',\n",
       " 'speculators': 'NNS',\n",
       " 'scalp': 'NN',\n",
       " 'Messrs.': 'NNP',\n",
       " 'saw': 'VBD',\n",
       " 'prospective': 'JJ',\n",
       " 'personal': 'JJ',\n",
       " 'fortunes': 'NNS',\n",
       " 'continue': 'VB',\n",
       " 'plummet': 'VB',\n",
       " 'shares': 'NNS',\n",
       " 'parent': 'NN',\n",
       " 'dived': 'VBD',\n",
       " '24.875': 'CD',\n",
       " 'on': 'IN',\n",
       " 'Big': 'NNP',\n",
       " 'Board': 'NNP',\n",
       " 'close': 'VB',\n",
       " '198': 'CD',\n",
       " 'Including': 'VBG',\n",
       " 'Monday': 'NNP',\n",
       " 'plunge': 'NN',\n",
       " 'given': 'VBN',\n",
       " 'executives': 'NNS',\n",
       " 'paper': 'NN',\n",
       " 'losses': 'NNS',\n",
       " '49.5': 'CD',\n",
       " 'they': 'PRP',\n",
       " 'would': 'MD',\n",
       " 'have': 'VBP',\n",
       " 'realized': 'VBN',\n",
       " 'pilots': 'NNS',\n",
       " 'management-led': 'JJ',\n",
       " 'buy-out': 'NN',\n",
       " 'gone': 'VBN',\n",
       " 'through': 'IN',\n",
       " '300': 'CD',\n",
       " 'When': 'WRB',\n",
       " 'financing': 'VBG',\n",
       " 'collapsed': 'VBD',\n",
       " 'week': 'NN',\n",
       " 'so': 'RB',\n",
       " 'did': 'VBD',\n",
       " 'Even': 'RB',\n",
       " 'if': 'IN',\n",
       " 'banks': 'NNS',\n",
       " 'resurrect': 'VB',\n",
       " 'package': 'NN',\n",
       " '250': 'CD',\n",
       " 'still': 'RB',\n",
       " 'get': 'VB',\n",
       " '25': 'CD',\n",
       " 'less': 'JJR',\n",
       " 'than': 'IN',\n",
       " 'stood': 'VBD',\n",
       " 'gain': 'NN',\n",
       " 'initial': 'JJ',\n",
       " 'transaction': 'NN',\n",
       " 'owns': 'VBZ',\n",
       " '75,000': 'CD',\n",
       " 'options': 'NNS',\n",
       " 'buy': 'VB',\n",
       " 'another': 'DT',\n",
       " '250,000': 'CD',\n",
       " '83.3125': 'CD',\n",
       " '300-a-share': 'JJ',\n",
       " 'buyout': 'NN',\n",
       " 'totaled': 'VBD',\n",
       " '76.7': 'CD',\n",
       " 'By': 'IN',\n",
       " 'yesterday': 'NN',\n",
       " 'trading': 'NN',\n",
       " 'good': 'JJ',\n",
       " 'paltry': 'JJ',\n",
       " '43.5': 'CD',\n",
       " 'Of': 'IN',\n",
       " 'course': 'NN',\n",
       " '48': 'CD',\n",
       " 'He': 'PRP',\n",
       " 'left': 'VBN',\n",
       " 'jobs': 'NNS',\n",
       " 'Republic': 'NNP',\n",
       " 'Flying': 'NNP',\n",
       " 'Tiger': 'NNP',\n",
       " 'combined': 'VBN',\n",
       " 'stock-option': 'NN',\n",
       " 'gains': 'NNS',\n",
       " '22': 'CD',\n",
       " 'gave': 'VBD',\n",
       " 'him': 'PRP',\n",
       " '15': 'CD',\n",
       " 'bonus': 'NN',\n",
       " 'when': 'WRB',\n",
       " 'hired': 'VBN',\n",
       " 'His': 'PRP$',\n",
       " 'salary': 'NN',\n",
       " '575,000': 'CD',\n",
       " '40-year': 'JJ',\n",
       " 'changed': 'VBN',\n",
       " 'enough': 'RB',\n",
       " '--': ':',\n",
       " 'least': 'JJS',\n",
       " 'right': 'NN',\n",
       " 'ones': 'NNS',\n",
       " 'stash': 'VB',\n",
       " 'away': 'RB',\n",
       " 'kind': 'NN',\n",
       " 'money': 'NN',\n",
       " 'paid': 'VBN',\n",
       " '375,000': 'CD',\n",
       " 'lure': 'VB',\n",
       " '342,122': 'CD',\n",
       " '280,000': 'CD',\n",
       " '10,000': 'CD',\n",
       " '150,000': 'CD',\n",
       " '69': 'CD',\n",
       " 'That': 'DT',\n",
       " 'came': 'VBD',\n",
       " '37.7': 'CD',\n",
       " 'under': 'IN',\n",
       " 'but': 'CC',\n",
       " 'just': 'RB',\n",
       " '21.3': 'CD',\n",
       " '114.4': 'CD',\n",
       " 'men': 'NNS',\n",
       " 'scheduled': 'VBN',\n",
       " 'reap': 'VB',\n",
       " 'agreed': 'VBD',\n",
       " 'invest': 'VB',\n",
       " 'angering': 'VBG',\n",
       " 'many': 'JJ',\n",
       " 'thousands': 'NNS',\n",
       " 'workers': 'NNS',\n",
       " 'asked': 'VBD',\n",
       " 'make': 'VB',\n",
       " 'pay': 'VB',\n",
       " 'concessions': 'NNS',\n",
       " 'be': 'VB',\n",
       " 'success': 'NN',\n",
       " 'directors': 'NNS',\n",
       " 'voted': 'VBD',\n",
       " 'themselves': 'PRP',\n",
       " 'spouses': 'NNS',\n",
       " 'lifetime': 'NN',\n",
       " 'access': 'NN',\n",
       " 'Friendly': 'NNP',\n",
       " 'Skies': 'NNPS',\n",
       " 'free': 'JJ',\n",
       " 'first-class': 'JJ',\n",
       " 'travel': 'NN',\n",
       " '20,000': 'CD',\n",
       " 'life': 'NN',\n",
       " 'well': 'RB',\n",
       " 'Conceivably': 'RB',\n",
       " 'scaled-back': 'JJ',\n",
       " 'could': 'MD',\n",
       " 'bumped': 'VBN',\n",
       " 'back': 'RB',\n",
       " 'coach': 'NN',\n",
       " 'seats': 'NNS',\n",
       " 'H.': 'NNP',\n",
       " 'Johnson': 'NNP',\n",
       " 'Coatedboard': 'NNP',\n",
       " 'division': 'NN',\n",
       " 'Mead': 'NNP',\n",
       " 'Manville': 'NNP',\n",
       " 'Forest': 'NNP',\n",
       " 'Products': 'NNPS',\n",
       " 'senior': 'JJ',\n",
       " 'Corp': 'NNP',\n",
       " 'succeeds': 'VBZ',\n",
       " 'Harry': 'NNP',\n",
       " 'W.': 'NNP',\n",
       " 'Sherman': 'NNP',\n",
       " 'pursue': 'VB',\n",
       " 'both': 'DT',\n",
       " 'positions': 'NNS',\n",
       " 'building': 'VBG',\n",
       " 'forest': 'NN',\n",
       " 'products': 'NNS',\n",
       " 'US': 'PRP',\n",
       " 'Facilities': 'NNPS',\n",
       " 'Robert': 'NNP',\n",
       " 'J.': 'NNP',\n",
       " 'Percival': 'NNP',\n",
       " 'step': 'NN',\n",
       " 'down': 'RB',\n",
       " 'insurance': 'NN',\n",
       " 'holding': 'VBG',\n",
       " '``': '``',\n",
       " 'There': 'EX',\n",
       " 'difference': 'NN',\n",
       " 'opinion': 'NN',\n",
       " 'future': 'NN',\n",
       " 'direction': 'NN',\n",
       " \"''\": \"''\",\n",
       " 'spokeswoman': 'NN',\n",
       " 'declined': 'VBD',\n",
       " 'comment': 'VB',\n",
       " 'statement': 'NN',\n",
       " 'employment': 'NN',\n",
       " 'act': 'NN',\n",
       " 'consultant': 'NN',\n",
       " 'will': 'MD',\n",
       " 'also': 'RB',\n",
       " 'remain': 'VBP',\n",
       " 'director': 'NN',\n",
       " 'wo': 'MD',\n",
       " 'serve': 'VB',\n",
       " 'any': 'DT',\n",
       " 'committees': 'NNS',\n",
       " 'succeeded': 'VBN',\n",
       " 'interim': 'JJ',\n",
       " 'basis': 'NN',\n",
       " 'George': 'NNP',\n",
       " 'Kadonada': 'NNP',\n",
       " 'same': 'JJ',\n",
       " 'bought': 'VBN',\n",
       " '112,000': 'CD',\n",
       " 'common': 'JJ',\n",
       " 'private': 'JJ',\n",
       " 'Terms': 'NNS',\n",
       " 'disclosed': 'VBN',\n",
       " 'buy-back': 'NN',\n",
       " 'represents': 'VBZ',\n",
       " '3': 'CD',\n",
       " '%': 'NN',\n",
       " '3.7': 'CD',\n",
       " 'outstanding': 'JJ',\n",
       " 'Sept.': 'NNP',\n",
       " '30': 'CD',\n",
       " 'national': 'JJ',\n",
       " 'over-the-counter': 'JJ',\n",
       " 'closed': 'VBN',\n",
       " '3.625': 'CD',\n",
       " 'unchanged': 'JJ',\n",
       " 'Three': 'CD',\n",
       " 'drug': 'NN',\n",
       " 'companies': 'NNS',\n",
       " 'reported': 'VBD',\n",
       " 'robust': 'JJ',\n",
       " 'bolstered': 'VBN',\n",
       " 'strong': 'JJ',\n",
       " 'sales': 'NNS',\n",
       " 'newer': 'JJR',\n",
       " 'big-selling': 'JJ',\n",
       " 'prescriptions': 'NNS',\n",
       " 'drugs': 'NNS',\n",
       " 'hefty': 'JJ',\n",
       " 'margins': 'NNS',\n",
       " 'Merck': 'NNP',\n",
       " '&': 'CC',\n",
       " 'increase': 'VB',\n",
       " ';': ':',\n",
       " 'Warner-Lambert': 'NNP',\n",
       " 'rose': 'VBD',\n",
       " 'Eli': 'NNP',\n",
       " 'Lilly': 'NNP',\n",
       " 'net': 'JJ',\n",
       " 'income': 'NN',\n",
       " '24': 'CD',\n",
       " 'results': 'NNS',\n",
       " 'line': 'NN',\n",
       " 'analysts': 'NNS',\n",
       " \"'\": \"''\",\n",
       " 'expectations': 'NNS',\n",
       " 'Rahway': 'NNP',\n",
       " 'N.J.': 'NNP',\n",
       " 'continued': 'VBN',\n",
       " 'lead': 'NN',\n",
       " 'industry': 'NN',\n",
       " 'performance': 'NN',\n",
       " 'human': 'JJ',\n",
       " 'animal': 'NN',\n",
       " 'health-products': 'NNS',\n",
       " 'segment': 'NN',\n",
       " 'stronger': 'JJR',\n",
       " 'U.S.': 'NNP',\n",
       " 'dollar': 'NN',\n",
       " 'reduced': 'VBN',\n",
       " 'first-nine-month': 'JJ',\n",
       " 'growth': 'NN',\n",
       " '2': 'CD',\n",
       " 'respectively': 'RB',\n",
       " 'accounted': 'VBD',\n",
       " '47': 'CD',\n",
       " 'compared': 'VBN',\n",
       " '50': 'CD',\n",
       " 'Sales': 'NNS',\n",
       " '1.63': 'CD',\n",
       " 'billion': 'CD',\n",
       " '1.47': 'CD',\n",
       " 'Mevacor': 'NNP',\n",
       " 'new': 'JJ',\n",
       " 'cholesterol-lowering': 'JJ',\n",
       " 'higher': 'JJR',\n",
       " 'prescription': 'NN',\n",
       " 'medicine': 'NN',\n",
       " 'ever': 'RB',\n",
       " 'achieved': 'VBN',\n",
       " 'following': 'VBG',\n",
       " 'introduction': 'NN',\n",
       " 'introduced': 'VBN',\n",
       " 'West': 'NNP',\n",
       " 'Germany': 'NNP',\n",
       " 'Intense': 'JJ',\n",
       " 'competition': 'NN',\n",
       " 'however': 'RB',\n",
       " 'led': 'VBN',\n",
       " 'declines': 'NNS',\n",
       " 'group': 'NN',\n",
       " 'established': 'VBN',\n",
       " 'animal-health': 'NN',\n",
       " 'including': 'VBG',\n",
       " 'Aldomet': 'NNP',\n",
       " 'Indocin': 'NNP',\n",
       " 'Stock': 'NNP',\n",
       " 'Exchange': 'NNP',\n",
       " 'composite': 'JJ',\n",
       " '75.25': 'CD',\n",
       " 'up': 'IN',\n",
       " 'Morris': 'NNP',\n",
       " 'Plains': 'NNP',\n",
       " 'record': 'NN',\n",
       " 'eighth': 'JJ',\n",
       " 'row': 'NN',\n",
       " '20': 'CD',\n",
       " 'per-share': 'JJ',\n",
       " 'Spurred': 'VBN',\n",
       " 'world-wide': 'JJ',\n",
       " '1989': 'CD',\n",
       " 'best': 'JJS',\n",
       " 'history': 'NN',\n",
       " '6.10': 'CD',\n",
       " '1.11': 'CD',\n",
       " '1.03': 'CD',\n",
       " 'Prescription-drug': 'NN',\n",
       " '9': 'CD',\n",
       " '340': 'CD',\n",
       " 'cardiovascular': 'JJ',\n",
       " 'Lopid': 'NNP',\n",
       " 'lipid': 'NN',\n",
       " 'regulator': 'NN',\n",
       " 'Dilzem': 'NNP',\n",
       " 'calcium': 'NN',\n",
       " 'channel': 'NN',\n",
       " 'blocker': 'NN',\n",
       " 'World-wide': 'JJ',\n",
       " 'non-prescription': 'JJ',\n",
       " 'health-care': 'NN',\n",
       " 'such': 'JJ',\n",
       " 'Halls': 'NNP',\n",
       " 'cough': 'NN',\n",
       " 'tablets': 'NNS',\n",
       " 'Rolaids': 'NNP',\n",
       " 'antacid': 'NN',\n",
       " 'Lubriderm': 'NNP',\n",
       " 'skin': 'NN',\n",
       " 'lotion': 'NN',\n",
       " '362': 'CD',\n",
       " 'third': 'JJ',\n",
       " 'Confectionery': 'JJ',\n",
       " 'Trident': 'NNP',\n",
       " 'gum': 'NN',\n",
       " 'Certs': 'NNP',\n",
       " 'breath': 'NN',\n",
       " 'mints': 'NNS',\n",
       " 'Clorets': 'NNP',\n",
       " '12': 'CD',\n",
       " '277': 'CD',\n",
       " '109.50': 'CD',\n",
       " '1.50': 'CD',\n",
       " 'attributed': 'VBD',\n",
       " 'nine-month': 'JJ',\n",
       " 'pharmaceuticals': 'NNS',\n",
       " 'medical': 'JJ',\n",
       " 'instruments': 'NNS',\n",
       " 'plant-science': 'NN',\n",
       " 'despite': 'IN',\n",
       " 'poor': 'JJ',\n",
       " 'exchange': 'NN',\n",
       " 'rates': 'NNS',\n",
       " 'slowed': 'VBD',\n",
       " 'abroad': 'RB',\n",
       " 'Earnings': 'NNS',\n",
       " 'pace': 'NN',\n",
       " 'because': 'IN',\n",
       " 'lower': 'JJR',\n",
       " 'tax': 'NN',\n",
       " 'rate': 'NN',\n",
       " 'renegotiation': 'NN',\n",
       " 'debt': 'NN',\n",
       " 'instrument': 'NN',\n",
       " 'received': 'VBD',\n",
       " 'Faberge': 'NNP',\n",
       " 'Inc.': 'NNP',\n",
       " 'connection': 'NN',\n",
       " 'sale': 'NN',\n",
       " 'Elizabeth': 'NNP',\n",
       " 'Arden': 'NNP',\n",
       " '1987': 'CD',\n",
       " 'proceeds': 'NNS',\n",
       " 'settlement': 'NN',\n",
       " 'patent': 'NN',\n",
       " 'litigation': 'NN',\n",
       " 'Hybritech': 'NNP',\n",
       " 'Third-quarter': 'JJ',\n",
       " 'Indianapolis': 'NNP',\n",
       " 'Ind.': 'NNP',\n",
       " '11': 'CD',\n",
       " '1.045': 'CD',\n",
       " '940.6': 'CD',\n",
       " 'Nine-month': 'JJ',\n",
       " 'grew': 'VBD',\n",
       " '3.39': 'CD',\n",
       " '3.03': 'CD',\n",
       " 'Prozac': 'NNP',\n",
       " 'anti-depressant': 'NN',\n",
       " 'drug-sales': 'NNS',\n",
       " 'Higher': 'JJR',\n",
       " 'pesticides': 'NNS',\n",
       " 'offset': 'VBP',\n",
       " 'slight': 'JJ',\n",
       " 'fuel': 'VB',\n",
       " 'agricultural': 'JJ',\n",
       " 'product': 'NN',\n",
       " 'Advanced': 'NNP',\n",
       " 'Cardiovascular': 'NNP',\n",
       " 'Systems': 'NNP',\n",
       " 'Cardiac': 'NNP',\n",
       " 'Pacemakers': 'NNPS',\n",
       " 'units': 'NNS',\n",
       " 'medical-instrument': 'JJ',\n",
       " 'systems': 'NNS',\n",
       " '62.25': 'CD',\n",
       " '12.5': 'CD',\n",
       " 'Reuben': 'NNP',\n",
       " 'Mark': 'NNP',\n",
       " 'Colgate-Palmolive': 'NNP',\n",
       " 'comfortable': 'JJ',\n",
       " 'estimates': 'VBZ',\n",
       " 'between': 'IN',\n",
       " '95': 'CD',\n",
       " '1.05': 'CD',\n",
       " 'compares': 'VBZ',\n",
       " 'operations': 'NNS',\n",
       " 'discontinued': 'VBN',\n",
       " '88': 'CD',\n",
       " 'ago': 'RB',\n",
       " 'mean': 'NN',\n",
       " 'consumer-products': 'NNS',\n",
       " '69.5': 'CD',\n",
       " '76': 'CD',\n",
       " '47.1': 'CD',\n",
       " 'year-before': 'JJ',\n",
       " 'Analysts': 'NNS',\n",
       " 'estimate': 'NN',\n",
       " 'Colgate': 'NNP',\n",
       " '8': 'CD',\n",
       " '1.29': 'CD',\n",
       " 'Latin': 'NNP',\n",
       " 'America': 'NNP',\n",
       " 'Asia': 'NNP',\n",
       " 'Europe': 'NNP',\n",
       " 'Results': 'NNS',\n",
       " 'very': 'RB',\n",
       " 'meaningful': 'JJ',\n",
       " 'business': 'NN',\n",
       " 'Operating': 'NN',\n",
       " 'household': 'NN',\n",
       " 'personal-care': 'JJ',\n",
       " 'businesses': 'NNS',\n",
       " 'jumped': 'VBD',\n",
       " 'added': 'VBD',\n",
       " 'improvement': 'NN',\n",
       " 'result': 'VB',\n",
       " 'cost': 'NN',\n",
       " 'consolidating': 'VBG',\n",
       " 'manufacturing': 'NN',\n",
       " 'blending': 'VBG',\n",
       " 'organizations': 'NNS',\n",
       " 'focusing': 'VBG',\n",
       " 'carefully': 'RB',\n",
       " 'promotional': 'JJ',\n",
       " 'activities': 'NNS',\n",
       " 'estimated': 'VBD',\n",
       " 'surprise': 'NN',\n",
       " 'includes': 'VBZ',\n",
       " 'brands': 'NNS',\n",
       " 'Fab': 'NNP',\n",
       " 'laundry': 'NN',\n",
       " 'detergent': 'NN',\n",
       " 'Ajax': 'NNP',\n",
       " 'cleanser': 'NN',\n",
       " 'weak': 'JJ',\n",
       " 'performer': 'NN',\n",
       " 'flat': 'JJ',\n",
       " '1': 'CD',\n",
       " 'If': 'IN',\n",
       " 'you': 'PRP',\n",
       " 'say': 'VBP',\n",
       " 'mediocre': 'JJ',\n",
       " 'great': 'JJ',\n",
       " 'everywhere': 'RB',\n",
       " 'else': 'RB',\n",
       " 'fine': 'JJ',\n",
       " 'says': 'VBZ',\n",
       " 'Bonita': 'NNP',\n",
       " 'Austin': 'NNP',\n",
       " 'analyst': 'NN',\n",
       " 'Wertheim': 'NNP',\n",
       " 'Schroder': 'NNP',\n",
       " 'But': 'CC',\n",
       " 'not': 'RB',\n",
       " 'problem': 'NN',\n",
       " 'conceded': 'VBD',\n",
       " 'domestic': 'JJ',\n",
       " 'apart': 'RB',\n",
       " 'highly': 'RB',\n",
       " 'profitable': 'JJ',\n",
       " 'Hill': 'NNP',\n",
       " 'Pet': 'NNP',\n",
       " 'lagged': 'VBN',\n",
       " 'We': 'PRP',\n",
       " \"'ve\": 'VBP',\n",
       " 'done': 'VBN',\n",
       " 'lot': 'NN',\n",
       " 'improve': 'VB',\n",
       " '-LCB-': '(',\n",
       " '-RCB-': ')',\n",
       " 'Improving': 'VBG',\n",
       " 'profitability': 'NN',\n",
       " 'extremely': 'RB',\n",
       " 'high': 'JJ',\n",
       " 'priority': 'NN',\n",
       " 'To': 'TO',\n",
       " 'focus': 'VB',\n",
       " 'global': 'JJ',\n",
       " 'sold': 'VBN',\n",
       " 'Kendall': 'NNP',\n",
       " 'Anthony': 'NNP',\n",
       " 'Ittleson': 'NNP',\n",
       " 'elected': 'VBD',\n",
       " 'primarily': 'RB',\n",
       " 'radio': 'NN',\n",
       " 'television': 'NN',\n",
       " 'stations': 'NNS',\n",
       " 'increasing': 'VBG',\n",
       " 'number': 'NN',\n",
       " 'five': 'CD',\n",
       " 'Osborn': 'NNP',\n",
       " 'operates': 'VBZ',\n",
       " 'Muzak': 'NNP',\n",
       " 'franchises': 'NNS',\n",
       " 'entertainment': 'NN',\n",
       " 'properties': 'NNS',\n",
       " 'small': 'JJ',\n",
       " 'cable-television': 'NN',\n",
       " 'projects': 'NNS',\n",
       " 'CIT': 'NNP',\n",
       " 'Holdings': 'NNP',\n",
       " 'controlled': 'VBN',\n",
       " 'Manufacturers': 'NNP',\n",
       " 'Hanover': 'NNP',\n",
       " 'Boston': 'NNP',\n",
       " 'Globe': 'NNP',\n",
       " 'redesigned': 'VBN',\n",
       " 'pages': 'NNS',\n",
       " 'crisper': 'NN',\n",
       " 'look': 'VB',\n",
       " 'revamped': 'VBN',\n",
       " 'fixtures': 'NNS',\n",
       " 'aimed': 'VBN',\n",
       " 'making': 'VBG',\n",
       " 'consistent': 'JJ',\n",
       " 'easier': 'JJR',\n",
       " 'read': 'VB',\n",
       " 'Maybe': 'RB',\n",
       " 'can': 'MD',\n",
       " 'find': 'VBP',\n",
       " 'where': 'WRB',\n",
       " 'your': 'PRP$',\n",
       " 'favorite': 'JJ',\n",
       " 'writer': 'NN',\n",
       " 'went': 'VBD',\n",
       " 'Beantown': 'NNP',\n",
       " 'scribes': 'NNS',\n",
       " 'spare': 'VB',\n",
       " 'no': 'RB',\n",
       " 'invective': 'NN',\n",
       " 'taking': 'VBG',\n",
       " 'local': 'JJ',\n",
       " 'luminaries': 'NNS',\n",
       " 'Michael': 'NNP',\n",
       " 'Pee': 'NNP',\n",
       " 'Wee': 'NNP',\n",
       " 'Dukakis': 'NNP',\n",
       " 'England': 'NNP',\n",
       " 'Patriots': 'NNPS',\n",
       " 'Coach': 'NNP',\n",
       " 'Raymond': 'NNP',\n",
       " 'Rev.': 'NNP',\n",
       " 'Ray': 'NNP',\n",
       " 'Berry': 'NNP',\n",
       " 'poured': 'VBD',\n",
       " 'ridicule': 'NN',\n",
       " 'drawings': 'NNS',\n",
       " 'columnists': 'NNS',\n",
       " 'replaced': 'VBD',\n",
       " 'photos': 'NNS',\n",
       " 'late': 'JJ',\n",
       " 'night': 'NN',\n",
       " 'Managing': 'NNP',\n",
       " 'Editor': 'NNP',\n",
       " 'Mulvoy': 'NNP',\n",
       " 'bending': 'VBG',\n",
       " 'troops': 'NNS',\n",
       " 'scrapped': 'VBD',\n",
       " 'few': 'JJ',\n",
       " 'days': 'NNS',\n",
       " 'pictures': 'NNS',\n",
       " 'adorn': 'VB',\n",
       " 'columns': 'NNS',\n",
       " 'Trouble': 'NN',\n",
       " 'nobody': 'NN',\n",
       " 'thought': 'VBD',\n",
       " 'looked': 'VBD',\n",
       " 'columnist': 'NN',\n",
       " 'Mike': 'NNP',\n",
       " 'Barnicle': 'NNP',\n",
       " 'second': 'JJ',\n",
       " 'attack': 'NN',\n",
       " 'employer': 'NN',\n",
       " 'weeks': 'NNS',\n",
       " 'averred': 'VBD',\n",
       " 'shadowy': 'JJ',\n",
       " 'countenance': 'NN',\n",
       " 'bad': 'JJ',\n",
       " 'like': 'IN',\n",
       " 'face': 'NN',\n",
       " \"'d\": 'MD',\n",
       " 'bottle': 'NN',\n",
       " 'miracle': 'NN',\n",
       " 'elixir': 'NN',\n",
       " 'promises': 'VBZ',\n",
       " 'do': 'VB',\n",
       " 'diarrhea': 'NN',\n",
       " 'our': 'PRP$',\n",
       " 'reminded': 'VBD',\n",
       " 'readers': 'NNS',\n",
       " 'forgiven': 'VBN',\n",
       " 'questioning': 'VBG',\n",
       " 'expense': 'NN',\n",
       " 'chit': 'NN',\n",
       " 'submitted': 'VBD',\n",
       " 'parking': 'VBG',\n",
       " 'car': 'NN',\n",
       " 'while': 'IN',\n",
       " 'chasing': 'VBG',\n",
       " 'story': 'NN',\n",
       " 'I': 'PRP',\n",
       " 'drawing': 'VBG',\n",
       " 'cross': 'NN',\n",
       " 'someone': 'NN',\n",
       " 'spot': 'VB',\n",
       " 'whipping': 'VBG',\n",
       " 'open': 'JJ',\n",
       " 'trench': 'NN',\n",
       " 'coat': 'NN',\n",
       " '...': ':',\n",
       " 'guy': 'NN',\n",
       " 'boasted': 'VBD',\n",
       " 'Charles': 'NNP',\n",
       " 'Manson': 'NNP',\n",
       " 'roommate': 'NN',\n",
       " '19': 'CD',\n",
       " 'hardly': 'RB',\n",
       " 'kinder': 'JJR',\n",
       " 'renderings': 'NNS',\n",
       " 'colleagues': 'NNS',\n",
       " 'Madden': 'NNP',\n",
       " '-LRB-': '(',\n",
       " 'appears': 'VBZ',\n",
       " 'pervert': 'NN',\n",
       " '-RRB-': ')',\n",
       " 'Will': 'MD',\n",
       " 'McDonough': 'NNP',\n",
       " 'looks': 'VBZ',\n",
       " 'drove': 'VBD',\n",
       " 'Abe': 'NNP',\n",
       " 'Lincoln': 'NNP',\n",
       " 'Bella': 'NNP',\n",
       " 'English': 'NNP',\n",
       " 'whose': 'WP$',\n",
       " 'little': 'RB',\n",
       " 'girl': 'NN',\n",
       " 'now': 'RB',\n",
       " 'screams': 'VBZ',\n",
       " 'hysterically': 'RB',\n",
       " 'every': 'DT',\n",
       " 'time': 'NN',\n",
       " 'she': 'PRP',\n",
       " 'sees': 'VBZ',\n",
       " 'newspaper': 'NN',\n",
       " 'Lynn': 'NNP',\n",
       " 'Staley': 'NNP',\n",
       " 'assistant': 'NN',\n",
       " 'managing': 'VBG',\n",
       " 'editor': 'NN',\n",
       " 'design': 'NN',\n",
       " 'acknowledges': 'VBZ',\n",
       " 'visages': 'NNS',\n",
       " 'low': 'JJ',\n",
       " 'end': 'VB',\n",
       " 'likeness': 'NN',\n",
       " 'spectrum': 'NN',\n",
       " 'Rival': 'NNP',\n",
       " 'Herald': 'NNP',\n",
       " ...}"
      ]
     },
     "execution_count": 52,
     "metadata": {},
     "output_type": "execute_result"
    }
   ],
   "source": [
    "dico"
   ]
  },
  {
   "cell_type": "markdown",
   "metadata": {},
   "source": [
    "Check: 1433 bonne réponses en test sur 1896\n",
    "\n",
    "(1527 avec 'NN' par défaut)"
   ]
  },
  {
   "cell_type": "code",
   "execution_count": 104,
   "metadata": {},
   "outputs": [
    {
     "data": {
      "text/plain": [
       "0.805379746835443"
      ]
     },
     "execution_count": 104,
     "metadata": {},
     "output_type": "execute_result"
    }
   ],
   "source": [
    "1527/1896"
   ]
  },
  {
   "cell_type": "markdown",
   "metadata": {},
   "source": [
    "# Analyse de séquence\n",
    "\n",
    "Je vous donne la correction des TME MAPSI: un apprentissage de HMM et une fonction viterbi. Vous allez devoir l'appliquer sur les données.\n",
    "Je vous demande seulement de comprendre la signification du paramètre ```eps``` dans l'algorithme HMM. C'est un paramètre important: jouez avec, touver la bonne valeur pour cette application.\n",
    "\n",
    "Il faut mettre en forme les données pour avoir des indices associés aux mots, sinon, on n'arrivera pas à faire des HMM... Tout le code pour la mise en forme est fourni ci-dessous.\n",
    "```\n",
    " The cat is in the garden => 1 2 3 4 1 5\n",
    "```\n",
    "\n",
    "Pour une construction facilité du dictionnaire, on utilisera la méthode ```setdefault```\n",
    "\n",
    "Afin de produire des analyses qualitative, vous devez malgré tout comprendre le fonctionnement des dictionnaires pour retrouver les mots qui correspondent aux indices."
   ]
  },
  {
   "cell_type": "code",
   "execution_count": 53,
   "metadata": {},
   "outputs": [],
   "source": [
    "# allx: liste de séquences d'observations\n",
    "# allq: liste de séquences d'états\n",
    "# N: nb états\n",
    "# K: nb observation\n",
    "\n",
    "def learnHMM(allx, allq, N, K, initTo1=True, eps=1.05e-1):\n",
    "    if initTo1:\n",
    "        eps = eps # vous pouvez jouer avec ce paramètre de régularisation\n",
    "        A = np.ones((N,N))*eps\n",
    "        B = np.ones((N,K))*eps\n",
    "        Pi = np.ones(N)*eps\n",
    "    else:\n",
    "        A = np.zeros((N,N))\n",
    "        B = np.zeros((N,K))\n",
    "        Pi = np.zeros(N)\n",
    "    for x,q in zip(allx,allq):\n",
    "        Pi[int(q[0])] += 1\n",
    "        for i in range(len(q)-1):\n",
    "            A[int(q[i]),int(q[i+1])] += 1\n",
    "            B[int(q[i]),int(x[i])] += 1\n",
    "        B[int(q[-1]),int(x[-1])] += 1 # derniere transition\n",
    "    A = A/np.maximum(A.sum(1).reshape(N,1),1) # normalisation\n",
    "    B = B/np.maximum(B.sum(1).reshape(N,1),1) # normalisation\n",
    "    Pi = Pi/Pi.sum()\n",
    "    return Pi , A, B\n",
    "\n",
    "def viterbi(x,Pi,A,B):\n",
    "    T = len(x)\n",
    "    N = len(Pi)\n",
    "    logA = np.log(A)\n",
    "    logB = np.log(B)\n",
    "    logdelta = np.zeros((N,T))\n",
    "    psi = np.zeros((N,T), dtype=int)\n",
    "    S = np.zeros(T)\n",
    "    logdelta[:,0] = np.log(Pi) + logB[:,int(x[0])]\n",
    "    #forward\n",
    "    for t in range(1,T):\n",
    "        logdelta[:,t] = (logdelta[:,t-1].reshape(N,1) + logA).max(0) + logB[:,int(x[t])]\n",
    "        psi[:,t] = (logdelta[:,t-1].reshape(N,1) + logA).argmax(0)\n",
    "    # backward\n",
    "    logp = logdelta[:,-1].max()\n",
    "    S[T-1] = logdelta[:,-1].argmax()\n",
    "    for i in range(2,T+1):\n",
    "        S[int(T-i)] = psi[int(S[int(T-i+1)]),int(T-i+1)]\n",
    "    return S, logp #, delta, psi\n",
    " "
   ]
  },
  {
   "cell_type": "code",
   "execution_count": 54,
   "metadata": {},
   "outputs": [
    {
     "name": "stdout",
     "output_type": "stream",
     "text": [
      "4570 42  in the dictionary\n"
     ]
    }
   ],
   "source": [
    "# alldocs etant issu du chargement des données\n",
    "# la mise en forme des données est fournie ici\n",
    "# afin de produire des analyses qualitative, vous devez malgré tout comprendre le fonctionnement des dictionnaires\n",
    "\n",
    "buf = [[m for m,pos in d ] for d in alldocs]\n",
    "mots = []\n",
    "[mots.extend(b) for b in buf]\n",
    "mots = np.unique(np.array(mots))\n",
    "nMots = len(mots)+1 # mot inconnu\n",
    "\n",
    "mots2ind = dict(zip(mots,range(len(mots))))\n",
    "mots2ind[\"UUUUUUUU\"] = len(mots)\n",
    "\n",
    "buf2 = [[pos for m,pos in d ] for d in alldocs]\n",
    "cles = []\n",
    "[cles.extend(b) for b in buf2]\n",
    "cles = np.unique(np.array(cles))\n",
    "cles2ind = dict(zip(cles,range(len(cles))))\n",
    "nCles = len(cles)\n",
    "\n",
    "print(nMots,nCles,\" in the dictionary\")\n",
    "\n",
    "# mise en forme des données\n",
    "allx  = [[mots2ind[m] for m,pos in d] for d in alldocs]\n",
    "allxT = [[mots2ind.setdefault(m,len(mots)) for m,pos in d] for d in alldocsT]\n",
    "\n",
    "allq  = [[cles2ind[pos] for m,pos in d] for d in alldocs]\n",
    "allqT = [[cles2ind.setdefault(pos,len(cles)) for m,pos in d] for d in alldocsT]"
   ]
  },
  {
   "cell_type": "code",
   "execution_count": 55,
   "metadata": {},
   "outputs": [
    {
     "name": "stdout",
     "output_type": "stream",
     "text": [
      "[1140, 814, 563, 11, 1294, 4393, 3855, 2854, 3992, 1362, 4242, 1452, 2395, 2855, 1990, 4529, 446, 525, 4299, 3595, 4148, 3368, 2499, 446, 11, 283, 2861, 20]\n",
      "[18, 18, 18, 22, 18, 17, 32, 23, 32, 9, 13, 17, 33, 24, 17, 12, 18, 18, 29, 31, 13, 20, 12, 18, 22, 8, 20, 5]\n"
     ]
    }
   ],
   "source": [
    "# affichage du premier doc:\n",
    "print(allx[0])\n",
    "print(allq[0])"
   ]
  },
  {
   "cell_type": "code",
   "execution_count": 68,
   "metadata": {},
   "outputs": [],
   "source": [
    "# application des HMM sur ces données\n",
    "\n",
    "Pi, A, B = learnHMM(allx, allq, nCles, nMots, initTo1=True)"
   ]
  },
  {
   "cell_type": "code",
   "execution_count": 63,
   "metadata": {},
   "outputs": [
    {
     "data": {
      "text/plain": [
       "1564"
      ]
     },
     "execution_count": 63,
     "metadata": {},
     "output_type": "execute_result"
    }
   ],
   "source": [
    "# décodage des séquences de test & calcul de performances\n",
    "\n",
    "np.sum([np.sum(viterbi(allxT[i],Pi,A,B)[0] == allqT[i]) for i in range(len(allxT))])"
   ]
  },
  {
   "cell_type": "markdown",
   "metadata": {},
   "source": [
    "Check : 1564 en test"
   ]
  },
  {
   "cell_type": "code",
   "execution_count": 99,
   "metadata": {},
   "outputs": [
    {
     "data": {
      "image/png": "[encoded data removed]",
      "text/plain": [
       "<Figure size 1080x360 with 2 Axes>"
      ]
     },
     "metadata": {
      "needs_background": "light"
     },
     "output_type": "display_data"
    },
    {
     "name": "stdout",
     "output_type": "stream",
     "text": [
      "Wall time: 49.1 s\n"
     ]
    }
   ],
   "source": [
    "%%time\n",
    "liste_eps = np.arange(0.01,1,0.05)\n",
    "count = np.sum([len(allq[i]) for i in range(len(allx))])\n",
    "countT = np.sum([len(allqT[i]) for i in range(len(allxT))])\n",
    "\n",
    "fig, ax = plt.subplots(1,2,figsize=(15,5))\n",
    "ax[0].set_title('Score train')\n",
    "ax[1].set_title('Score test')\n",
    "ax[0].set_xlabel('eps')\n",
    "ax[1].set_xlabel('eps')\n",
    "ax[0].set_ylabel('Score')\n",
    "ax[1].set_ylabel('Score')\n",
    "\n",
    "for eps in liste_eps:\n",
    "    Pi, A, B = learnHMM(allx, allq, nCles, nMots, initTo1=True, eps=eps)\n",
    "    #Train\n",
    "    res = np.sum([np.sum(viterbi(allx[i],Pi,A,B)[0] == allq[i]) for i in range(len(allx))])\n",
    "    res /= count\n",
    "    ax[0].scatter(eps,res)\n",
    "    \n",
    "    #Test\n",
    "    res = np.sum([np.sum(viterbi(allxT[i],Pi,A,B)[0] == allqT[i]) for i in range(len(allxT))])\n",
    "    res /= countT\n",
    "    ax[1].scatter(eps,res)\n",
    "    \n",
    "plt.show()"
   ]
  },
  {
   "cell_type": "markdown",
   "metadata": {},
   "source": [
    "### Analyse qualitative:\n",
    "\n",
    "- A l'aide d'un imshow sur les paramètres (ou d'un argsort), montrer quels sont les enchaînements probables d'étiquettes.\n",
    "\n",
    "- Visualiser aussi les matrices de confusion pour comprendre ce qui est difficile dans cette tâche\n",
    "\n",
    "- Extraire les exemples qui sont effectivement corrigés par viterbi\n",
    "\n",
    "- Le fait de traiter le texte (enlever les majuscules, les ponctuations, etc) fait-il varier les performances (**ATTENTION**, ça fait varier le nombre de mots)\n",
    "\n",
    "Penser à sauvegarder quasi-systématiquement les figures que vous produisez. Vous privilégierez le format pdf vectoriel. Le repertoire ```out``` est là pour stocker toutes les sorties. Vous devez donc obtenir quelque chose de la forme:\n",
    "```\n",
    "plt.figure() # nouvelle figure\n",
    "...\n",
    "plt.savefig(\"out/ma_figure.pdf\")\n",
    "```\n"
   ]
  },
  {
   "cell_type": "code",
   "execution_count": 17,
   "metadata": {
    "scrolled": true
   },
   "outputs": [
    {
     "name": "stdout",
     "output_type": "stream",
     "text": [
      "Les enchainements probables sont :\n",
      "$ -> CD\n",
      "'' -> NNP\n",
      "( -> NNP\n",
      ") -> CC\n",
      ", -> NNP\n",
      ". -> ''\n",
      ": -> DT\n",
      "CC -> NNP\n",
      "CD -> CD\n",
      "DT -> NN\n",
      "EX -> VBZ\n",
      "FW -> NNP\n",
      "IN -> DT\n",
      "JJ -> NN\n",
      "JJR -> IN\n",
      "JJS -> NN\n",
      "MD -> VB\n",
      "NN -> IN\n",
      "NNP -> NNP\n",
      "NNPS -> VBD\n",
      "NNS -> IN\n",
      "PDT -> DT\n",
      "POS -> NN\n",
      "PRP -> VBD\n",
      "PRP$ -> NN\n",
      "RB -> VBN\n",
      "RBR -> JJ\n",
      "RBS -> JJ\n",
      "RP -> DT\n",
      "TO -> VB\n",
      "UH -> ''\n",
      "VB -> DT\n",
      "VBD -> DT\n",
      "VBG -> IN\n",
      "VBN -> IN\n",
      "VBP -> VBN\n",
      "VBZ -> VBN\n",
      "WDT -> VBD\n",
      "WP -> VBD\n",
      "WP$ -> JJ\n",
      "WRB -> PRP\n",
      "`` -> PRP\n"
     ]
    }
   ],
   "source": [
    "print(\"Les enchainements probables sont :\")\n",
    "for i in range(len(A)):\n",
    "    print(f\"{cles[i]} -> {cles[np.argmax(A[i])]}\")"
   ]
  },
  {
   "cell_type": "code",
   "execution_count": 106,
   "metadata": {},
   "outputs": [
    {
     "data": {
      "text/plain": [
       "<matplotlib.colorbar.Colorbar at 0x27166c46e88>"
      ]
     },
     "execution_count": 106,
     "metadata": {},
     "output_type": "execute_result"
    },
    {
     "data": {
      "image/png": "[encoded data removed]",
      "text/plain": [
       "<Figure size 648x648 with 2 Axes>"
      ]
     },
     "metadata": {
      "needs_background": "light"
     },
     "output_type": "display_data"
    }
   ],
   "source": [
    "plt.figure(figsize=(9,9))\n",
    "plt.xticks(np.arange(nCles+1),cles2ind.keys())\n",
    "plt.yticks(np.arange(nCles+1),cles2ind.keys())\n",
    "plt.xticks(rotation=90)\n",
    "plt.imshow(A)\n",
    "plt.colorbar()"
   ]
  },
  {
   "cell_type": "code",
   "execution_count": 147,
   "metadata": {},
   "outputs": [
    {
     "ename": "ValueError",
     "evalue": "The number of FixedLocator locations (10), usually from a call to set_ticks, does not match the number of ticklabels (9).",
     "output_type": "error",
     "traceback": [
      "\u001b[1;31m---------------------------------------------------------------------------\u001b[0m",
      "\u001b[1;31mValueError\u001b[0m                                Traceback (most recent call last)",
      "\u001b[1;32m<ipython-input-147-be4dc76fe1b6>\u001b[0m in \u001b[0;36m<module>\u001b[1;34m\u001b[0m\n\u001b[0;32m      6\u001b[0m \u001b[1;33m\u001b[0m\u001b[0m\n\u001b[0;32m      7\u001b[0m \u001b[0mplt\u001b[0m\u001b[1;33m.\u001b[0m\u001b[0mfigure\u001b[0m\u001b[1;33m(\u001b[0m\u001b[0mfigsize\u001b[0m\u001b[1;33m=\u001b[0m\u001b[1;33m(\u001b[0m\u001b[1;36m9\u001b[0m\u001b[1;33m,\u001b[0m\u001b[1;36m9\u001b[0m\u001b[1;33m)\u001b[0m\u001b[1;33m)\u001b[0m\u001b[1;33m\u001b[0m\u001b[1;33m\u001b[0m\u001b[0m\n\u001b[1;32m----> 8\u001b[1;33m \u001b[0mplt\u001b[0m\u001b[1;33m.\u001b[0m\u001b[0mxticks\u001b[0m\u001b[1;33m(\u001b[0m\u001b[0mnp\u001b[0m\u001b[1;33m.\u001b[0m\u001b[0marange\u001b[0m\u001b[1;33m(\u001b[0m\u001b[0mnCles\u001b[0m\u001b[1;33m+\u001b[0m\u001b[1;36m1\u001b[0m\u001b[1;33m)\u001b[0m\u001b[1;33m,\u001b[0m\u001b[0mcles2ind\u001b[0m\u001b[1;33m.\u001b[0m\u001b[0mkeys\u001b[0m\u001b[1;33m(\u001b[0m\u001b[1;33m)\u001b[0m\u001b[1;33m)\u001b[0m\u001b[1;33m\u001b[0m\u001b[1;33m\u001b[0m\u001b[0m\n\u001b[0m\u001b[0;32m      9\u001b[0m \u001b[0mplt\u001b[0m\u001b[1;33m.\u001b[0m\u001b[0myticks\u001b[0m\u001b[1;33m(\u001b[0m\u001b[0mnp\u001b[0m\u001b[1;33m.\u001b[0m\u001b[0marange\u001b[0m\u001b[1;33m(\u001b[0m\u001b[0mnCles\u001b[0m\u001b[1;33m+\u001b[0m\u001b[1;36m1\u001b[0m\u001b[1;33m)\u001b[0m\u001b[1;33m,\u001b[0m\u001b[0mcles2ind\u001b[0m\u001b[1;33m.\u001b[0m\u001b[0mkeys\u001b[0m\u001b[1;33m(\u001b[0m\u001b[1;33m)\u001b[0m\u001b[1;33m)\u001b[0m\u001b[1;33m\u001b[0m\u001b[1;33m\u001b[0m\u001b[0m\n\u001b[0;32m     10\u001b[0m \u001b[0mplt\u001b[0m\u001b[1;33m.\u001b[0m\u001b[0mxticks\u001b[0m\u001b[1;33m(\u001b[0m\u001b[0mrotation\u001b[0m\u001b[1;33m=\u001b[0m\u001b[1;36m90\u001b[0m\u001b[1;33m)\u001b[0m\u001b[1;33m\u001b[0m\u001b[1;33m\u001b[0m\u001b[0m\n",
      "\u001b[1;32m~\\Anaconda3\\lib\\site-packages\\matplotlib\\pyplot.py\u001b[0m in \u001b[0;36mxticks\u001b[1;34m(ticks, labels, **kwargs)\u001b[0m\n\u001b[0;32m   1657\u001b[0m         \u001b[0mlabels\u001b[0m \u001b[1;33m=\u001b[0m \u001b[0max\u001b[0m\u001b[1;33m.\u001b[0m\u001b[0mget_xticklabels\u001b[0m\u001b[1;33m(\u001b[0m\u001b[1;33m)\u001b[0m\u001b[1;33m\u001b[0m\u001b[1;33m\u001b[0m\u001b[0m\n\u001b[0;32m   1658\u001b[0m     \u001b[1;32melse\u001b[0m\u001b[1;33m:\u001b[0m\u001b[1;33m\u001b[0m\u001b[1;33m\u001b[0m\u001b[0m\n\u001b[1;32m-> 1659\u001b[1;33m         \u001b[0mlabels\u001b[0m \u001b[1;33m=\u001b[0m \u001b[0max\u001b[0m\u001b[1;33m.\u001b[0m\u001b[0mset_xticklabels\u001b[0m\u001b[1;33m(\u001b[0m\u001b[0mlabels\u001b[0m\u001b[1;33m,\u001b[0m \u001b[1;33m**\u001b[0m\u001b[0mkwargs\u001b[0m\u001b[1;33m)\u001b[0m\u001b[1;33m\u001b[0m\u001b[1;33m\u001b[0m\u001b[0m\n\u001b[0m\u001b[0;32m   1660\u001b[0m     \u001b[1;32mfor\u001b[0m \u001b[0ml\u001b[0m \u001b[1;32min\u001b[0m \u001b[0mlabels\u001b[0m\u001b[1;33m:\u001b[0m\u001b[1;33m\u001b[0m\u001b[1;33m\u001b[0m\u001b[0m\n\u001b[0;32m   1661\u001b[0m         \u001b[0ml\u001b[0m\u001b[1;33m.\u001b[0m\u001b[0mupdate\u001b[0m\u001b[1;33m(\u001b[0m\u001b[0mkwargs\u001b[0m\u001b[1;33m)\u001b[0m\u001b[1;33m\u001b[0m\u001b[1;33m\u001b[0m\u001b[0m\n",
      "\u001b[1;32m~\\Anaconda3\\lib\\site-packages\\matplotlib\\axes\\_base.py\u001b[0m in \u001b[0;36mwrapper\u001b[1;34m(self, *args, **kwargs)\u001b[0m\n\u001b[0;32m     61\u001b[0m \u001b[1;33m\u001b[0m\u001b[0m\n\u001b[0;32m     62\u001b[0m         \u001b[1;32mdef\u001b[0m \u001b[0mwrapper\u001b[0m\u001b[1;33m(\u001b[0m\u001b[0mself\u001b[0m\u001b[1;33m,\u001b[0m \u001b[1;33m*\u001b[0m\u001b[0margs\u001b[0m\u001b[1;33m,\u001b[0m \u001b[1;33m**\u001b[0m\u001b[0mkwargs\u001b[0m\u001b[1;33m)\u001b[0m\u001b[1;33m:\u001b[0m\u001b[1;33m\u001b[0m\u001b[1;33m\u001b[0m\u001b[0m\n\u001b[1;32m---> 63\u001b[1;33m             \u001b[1;32mreturn\u001b[0m \u001b[0mget_method\u001b[0m\u001b[1;33m(\u001b[0m\u001b[0mself\u001b[0m\u001b[1;33m)\u001b[0m\u001b[1;33m(\u001b[0m\u001b[1;33m*\u001b[0m\u001b[0margs\u001b[0m\u001b[1;33m,\u001b[0m \u001b[1;33m**\u001b[0m\u001b[0mkwargs\u001b[0m\u001b[1;33m)\u001b[0m\u001b[1;33m\u001b[0m\u001b[1;33m\u001b[0m\u001b[0m\n\u001b[0m\u001b[0;32m     64\u001b[0m \u001b[1;33m\u001b[0m\u001b[0m\n\u001b[0;32m     65\u001b[0m         \u001b[0mwrapper\u001b[0m\u001b[1;33m.\u001b[0m\u001b[0m__module__\u001b[0m \u001b[1;33m=\u001b[0m \u001b[0mowner\u001b[0m\u001b[1;33m.\u001b[0m\u001b[0m__module__\u001b[0m\u001b[1;33m\u001b[0m\u001b[1;33m\u001b[0m\u001b[0m\n",
      "\u001b[1;32m~\\Anaconda3\\lib\\site-packages\\matplotlib\\cbook\\deprecation.py\u001b[0m in \u001b[0;36mwrapper\u001b[1;34m(*args, **kwargs)\u001b[0m\n\u001b[0;32m    449\u001b[0m                 \u001b[1;34m\"parameter will become keyword-only %(removal)s.\"\u001b[0m\u001b[1;33m,\u001b[0m\u001b[1;33m\u001b[0m\u001b[1;33m\u001b[0m\u001b[0m\n\u001b[0;32m    450\u001b[0m                 name=name, obj_type=f\"parameter of {func.__name__}()\")\n\u001b[1;32m--> 451\u001b[1;33m         \u001b[1;32mreturn\u001b[0m \u001b[0mfunc\u001b[0m\u001b[1;33m(\u001b[0m\u001b[1;33m*\u001b[0m\u001b[0margs\u001b[0m\u001b[1;33m,\u001b[0m \u001b[1;33m**\u001b[0m\u001b[0mkwargs\u001b[0m\u001b[1;33m)\u001b[0m\u001b[1;33m\u001b[0m\u001b[1;33m\u001b[0m\u001b[0m\n\u001b[0m\u001b[0;32m    452\u001b[0m \u001b[1;33m\u001b[0m\u001b[0m\n\u001b[0;32m    453\u001b[0m     \u001b[1;32mreturn\u001b[0m \u001b[0mwrapper\u001b[0m\u001b[1;33m\u001b[0m\u001b[1;33m\u001b[0m\u001b[0m\n",
      "\u001b[1;32m~\\Anaconda3\\lib\\site-packages\\matplotlib\\axis.py\u001b[0m in \u001b[0;36m_set_ticklabels\u001b[1;34m(self, labels, fontdict, minor, **kwargs)\u001b[0m\n\u001b[0;32m   1794\u001b[0m         \u001b[1;32mif\u001b[0m \u001b[0mfontdict\u001b[0m \u001b[1;32mis\u001b[0m \u001b[1;32mnot\u001b[0m \u001b[1;32mNone\u001b[0m\u001b[1;33m:\u001b[0m\u001b[1;33m\u001b[0m\u001b[1;33m\u001b[0m\u001b[0m\n\u001b[0;32m   1795\u001b[0m             \u001b[0mkwargs\u001b[0m\u001b[1;33m.\u001b[0m\u001b[0mupdate\u001b[0m\u001b[1;33m(\u001b[0m\u001b[0mfontdict\u001b[0m\u001b[1;33m)\u001b[0m\u001b[1;33m\u001b[0m\u001b[1;33m\u001b[0m\u001b[0m\n\u001b[1;32m-> 1796\u001b[1;33m         \u001b[1;32mreturn\u001b[0m \u001b[0mself\u001b[0m\u001b[1;33m.\u001b[0m\u001b[0mset_ticklabels\u001b[0m\u001b[1;33m(\u001b[0m\u001b[0mlabels\u001b[0m\u001b[1;33m,\u001b[0m \u001b[0mminor\u001b[0m\u001b[1;33m=\u001b[0m\u001b[0mminor\u001b[0m\u001b[1;33m,\u001b[0m \u001b[1;33m**\u001b[0m\u001b[0mkwargs\u001b[0m\u001b[1;33m)\u001b[0m\u001b[1;33m\u001b[0m\u001b[1;33m\u001b[0m\u001b[0m\n\u001b[0m\u001b[0;32m   1797\u001b[0m \u001b[1;33m\u001b[0m\u001b[0m\n\u001b[0;32m   1798\u001b[0m     \u001b[1;33m@\u001b[0m\u001b[0mcbook\u001b[0m\u001b[1;33m.\u001b[0m\u001b[0m_make_keyword_only\u001b[0m\u001b[1;33m(\u001b[0m\u001b[1;34m\"3.2\"\u001b[0m\u001b[1;33m,\u001b[0m \u001b[1;34m\"minor\"\u001b[0m\u001b[1;33m)\u001b[0m\u001b[1;33m\u001b[0m\u001b[1;33m\u001b[0m\u001b[0m\n",
      "\u001b[1;32m~\\Anaconda3\\lib\\site-packages\\matplotlib\\axis.py\u001b[0m in \u001b[0;36mset_ticklabels\u001b[1;34m(self, ticklabels, minor, **kwargs)\u001b[0m\n\u001b[0;32m   1716\u001b[0m             \u001b[1;32mif\u001b[0m \u001b[0mlen\u001b[0m\u001b[1;33m(\u001b[0m\u001b[0mlocator\u001b[0m\u001b[1;33m.\u001b[0m\u001b[0mlocs\u001b[0m\u001b[1;33m)\u001b[0m \u001b[1;33m!=\u001b[0m \u001b[0mlen\u001b[0m\u001b[1;33m(\u001b[0m\u001b[0mticklabels\u001b[0m\u001b[1;33m)\u001b[0m \u001b[1;32mand\u001b[0m \u001b[0mlen\u001b[0m\u001b[1;33m(\u001b[0m\u001b[0mticklabels\u001b[0m\u001b[1;33m)\u001b[0m \u001b[1;33m!=\u001b[0m \u001b[1;36m0\u001b[0m\u001b[1;33m:\u001b[0m\u001b[1;33m\u001b[0m\u001b[1;33m\u001b[0m\u001b[0m\n\u001b[0;32m   1717\u001b[0m                 raise ValueError(\n\u001b[1;32m-> 1718\u001b[1;33m                     \u001b[1;34m\"The number of FixedLocator locations\"\u001b[0m\u001b[1;33m\u001b[0m\u001b[1;33m\u001b[0m\u001b[0m\n\u001b[0m\u001b[0;32m   1719\u001b[0m                     \u001b[1;34mf\" ({len(locator.locs)}), usually from a call to\"\u001b[0m\u001b[1;33m\u001b[0m\u001b[1;33m\u001b[0m\u001b[0m\n\u001b[0;32m   1720\u001b[0m                     \u001b[1;34m\" set_ticks, does not match\"\u001b[0m\u001b[1;33m\u001b[0m\u001b[1;33m\u001b[0m\u001b[0m\n",
      "\u001b[1;31mValueError\u001b[0m: The number of FixedLocator locations (10), usually from a call to set_ticks, does not match the number of ticklabels (9)."
     ]
    },
    {
     "data": {
      "image/png": "[encoded data removed]",
      "text/plain": [
       "<Figure size 648x648 with 1 Axes>"
      ]
     },
     "metadata": {
      "needs_background": "light"
     },
     "output_type": "display_data"
    }
   ],
   "source": [
    "matConf= np.zeros((len(cles2ind), len(cles2ind)))\n",
    "for i in range(len(allxT)): \n",
    "    s, m = viterbi(allxT[i], Pi, A,B) \n",
    "    for j in range(len(s)): \n",
    "        matConf[int(s[j])][allqT[i][j]]+=1 \n",
    "        \n",
    "plt.figure(figsize=(9,9))\n",
    "plt.xticks(np.arange(nCles+1),cles2ind.keys())\n",
    "plt.yticks(np.arange(nCles+1),cles2ind.keys())\n",
    "plt.xticks(rotation=90)\n",
    "#plt.imshow(matConf)\n",
    "plt.imshow(matConf-np.diag(np.diag(matConf)))\n",
    "plt.savefig(\"out/ma_figure.pdf\")"
   ]
  },
  {
   "cell_type": "code",
   "execution_count": 20,
   "metadata": {},
   "outputs": [],
   "source": [
    "def getCle(indsearch):\n",
    "    for cle, ind in cles2ind.items():\n",
    "        if ind == indsearch:\n",
    "            return cle"
   ]
  },
  {
   "cell_type": "code",
   "execution_count": 21,
   "metadata": {},
   "outputs": [
    {
     "data": {
      "text/plain": [
       "['RB', 'TO', '$', 'CD', 'IN', 'DT', 'NN', 'IN', 'CD', 'NNS']"
      ]
     },
     "execution_count": 21,
     "metadata": {},
     "output_type": "execute_result"
    }
   ],
   "source": [
    "#longueur enchainement\n",
    "nbe =10\n",
    "\n",
    "#état tiré aléatoirement selon Pi\n",
    "m = np.random.choice(np.arange(nCles), p=Pi)\n",
    "\n",
    "#séquence\n",
    "s = [getCle(m)]\n",
    "\n",
    "for i in range(nbe-1):\n",
    "    #tirage de l'état selon les proba de transitions\n",
    "    m = np.random.choice(np.arange(nCles), p=A[m])\n",
    "    #ajout séquence\n",
    "    s.append(getCle(m))\n",
    "    \n",
    "s"
   ]
  },
  {
   "cell_type": "markdown",
   "metadata": {},
   "source": [
    "# Test d'outils plus avancés\n",
    "\n",
    "1. On propose de faire des tests avec CRFTagger\n",
    "\n",
    "[https://tedboy.github.io/nlps/generated/generated/nltk.CRFTagger.html]\n",
    "\n",
    "1. PerceptronTagger de nltk\n",
    "\n",
    "1. En dehors de python, vous pouvez facilement utiliser le vénérable TreeTagger qui fonctionne toujours bien (mais pas forcément dans le même référenciel d'étiquetage:\n",
    "[http://www.cis.uni-muenchen.de/~schmid/tools/TreeTagger/]\n",
    "Il y a même un wrapper python en bas de la page pour intégrer ça dans votre code.\n",
    "Ce tagger a l'avantage d'avoir des modules pour le français.\n",
    "\n"
   ]
  },
  {
   "cell_type": "code",
   "execution_count": 22,
   "metadata": {},
   "outputs": [],
   "source": [
    "# il faut parfois:\n",
    "#!pip install python-crfsuite"
   ]
  },
  {
   "cell_type": "code",
   "execution_count": 111,
   "metadata": {},
   "outputs": [],
   "source": [
    "from nltk.tag.crf import CRFTagger"
   ]
  },
  {
   "cell_type": "code",
   "execution_count": 120,
   "metadata": {},
   "outputs": [],
   "source": [
    "tagger = CRFTagger()\n",
    "tagger.train(alldocs, 'out/crf.model') # apprentissage"
   ]
  },
  {
   "cell_type": "code",
   "execution_count": 121,
   "metadata": {},
   "outputs": [
    {
     "name": "stdout",
     "output_type": "stream",
     "text": [
      "CRFTagger , Score : 0.9071729957805907\n",
      "3616 bonnes réponses\n"
     ]
    },
    {
     "data": {
      "text/plain": [
       "3616"
      ]
     },
     "execution_count": 121,
     "metadata": {},
     "output_type": "execute_result"
    }
   ],
   "source": [
    "# mesure de la performance (à aller chercher dans la documentation)\n",
    "# le même travail qualitatif que précédemment est possible (et souhaitable !)...\n",
    "# ... Il est aussi très simple si votre code est mis dans des fonctions\n",
    "\n",
    "# TODO\n",
    "def evaluation(tagger, docsT):\n",
    "    print(type(tagger).__name__,', Score :',tagger.evaluate(docsT))\n",
    "    m = [list(np.array(doc)[:,0]) for doc in docsT]\n",
    "    #print(m)\n",
    "    tag_s = tagger.tag_sents(m)\n",
    "    nb_rep = 0\n",
    "    for i in range(len(docsT)):\n",
    "        nb_rep += np.sum(np.array(docsT[i]) == np.array(tag_s[i]))\n",
    "    print(nb_rep, \"bonnes réponses\")\n",
    "    return nb_rep\n",
    "\n",
    "evaluation(tagger, alldocsT)"
   ]
  },
  {
   "cell_type": "markdown",
   "metadata": {},
   "source": [
    "Check: 1720 bonnes réponses"
   ]
  },
  {
   "cell_type": "code",
   "execution_count": 122,
   "metadata": {},
   "outputs": [],
   "source": [
    "# perceptron\n",
    "\n",
    "from nltk.tag.perceptron import PerceptronTagger\n",
    "tagger = PerceptronTagger(load=False)\n",
    "tagger.train(alldocs)"
   ]
  },
  {
   "cell_type": "code",
   "execution_count": 123,
   "metadata": {},
   "outputs": [
    {
     "name": "stdout",
     "output_type": "stream",
     "text": [
      "PerceptronTagger , Score : 0.9177215189873418\n",
      "3636 bonnes réponses\n"
     ]
    },
    {
     "data": {
      "text/plain": [
       "3636"
      ]
     },
     "execution_count": 123,
     "metadata": {},
     "output_type": "execute_result"
    }
   ],
   "source": [
    "# Evaluation\n",
    "evaluation(tagger, alldocsT)\n",
    "# TODO"
   ]
  },
  {
   "cell_type": "markdown",
   "metadata": {},
   "source": [
    "Check: 1737 bonnes réponses"
   ]
  },
  {
   "cell_type": "markdown",
   "metadata": {},
   "source": [
    "# Et sur d'autres applications?\n",
    "\n",
    "Vous pouvez directement tester toutes les méthodes précédentes sur le chunking en changeant juste la fonction de chargement des données.\n",
    "Le codage des séquences est très intéressant avec des balises B(egin)/I(n).\n",
    "\n",
    "Du point de vue industriel, une des tâches les plus importantes est la détection d'entités nommées. Pour attaquer facilement la tâche NER, le dataset CoLNN 2003 est parfait (les datasets correspondant aux années suivantes sont corrects également).\n",
    "Le codage des séquences est un peu plus compliqué pour le NER.\n",
    "\n",
    "**Note 1**  Il faut faire attention dans cette tâche à ne calculer les taux de bonne classification que sur les entités et pas sur le tag *O=out*... On peut ensuite calculer une métrique à part pour les faux positifs.\n",
    "\n",
    "**Note 2** Il créer une nouvelle version du lecteur de données, ce qui constitue un très bon exercice.\n",
    "\n",
    "**Note 3** Ce jeu de données est encore largement utilisé en recherche: ce travail peut donc figurer dans votre CV :)\n",
    "\n",
    "**Note 4** Afin de conserver un code plus facile à lire, il peut être utile de traiter cette question dans un nouveau notebook.\n",
    "\n",
    "Lien vers le site officiel (qui ne contient pas les données!): [https://www.clips.uantwerpen.be/conll2003/ner/]"
   ]
  },
  {
   "cell_type": "code",
   "execution_count": 124,
   "metadata": {},
   "outputs": [
    {
     "name": "stdout",
     "output_type": "stream",
     "text": [
      "14986  docs read\n",
      "3683  docs (T) read\n"
     ]
    }
   ],
   "source": [
    "# Chargement des données POS/Chunking\n",
    "# Cette fonction doit être ré-écrite en v2 pour charger les données NER de connl 2003\n",
    "def load2(filename):\n",
    "    listeDoc = list()\n",
    "    with open(filename, \"r\") as f:\n",
    "        doc = list()\n",
    "        for ligne in f:\n",
    "            #print \"l : \",len(ligne),\" \",ligne\n",
    "            if len(ligne) < 2: # fin de doc\n",
    "                listeDoc.append(doc)\n",
    "                doc = list()\n",
    "                continue\n",
    "            mots = ligne.replace(\"\\n\",\"\").split(\" \")\n",
    "            doc.append((mots[0],mots[3])) # mettre mots[2] à la place de mots[1] pour le chuncking\n",
    "    return listeDoc[1:]\n",
    "# =============== chargement ============\n",
    "# sous ensemble du corpus => Idéal pour les premiers test\n",
    "filename = \"ressources/conll2003/train.txt\" \n",
    "filenameT = \"ressources/conll2003/test.txt\" \n",
    "\n",
    "# corpus plus gros => Pour valider les perf.\n",
    "# filename = \"ressources/conll2000/train.txt\" \n",
    "# filenameT = \"ressources/conll2000/test.txt\" \n",
    "\n",
    "alldocs = load2(filename)\n",
    "alldocsT = load2(filenameT)\n",
    "\n",
    "print(len(alldocs),\" docs read\")\n",
    "print(len(alldocsT),\" docs (T) read\")"
   ]
  },
  {
   "cell_type": "code",
   "execution_count": 125,
   "metadata": {},
   "outputs": [],
   "source": [
    "# allx: liste de séquences d'observations\n",
    "# allq: liste de séquences d'états\n",
    "# N: nb états\n",
    "# K: nb observation\n",
    "\n",
    "def learnHMM(allx, allq, N, K, initTo1, eps):\n",
    "    if initTo1:\n",
    "        eps = eps\n",
    "        A = np.ones((N,N))*eps\n",
    "        B = np.ones((N,K))*eps\n",
    "        Pi = np.ones(N)*eps\n",
    "    else:\n",
    "        A = np.zeros((N,N))\n",
    "        B = np.zeros((N,K))\n",
    "        Pi = np.zeros(N)\n",
    "    for x,q in zip(allx,allq):\n",
    "        Pi[int(q[0])] += 1\n",
    "        for i in range(len(q)-1):\n",
    "            A[int(q[i]),int(q[i+1])] += 1\n",
    "            B[int(q[i]),int(x[i])] += 1\n",
    "        B[int(q[-1]),int(x[-1])] += 1 # derniere transition\n",
    "    A = A/np.maximum(A.sum(1).reshape(N,1),1) # normalisation\n",
    "    B = B/np.maximum(B.sum(1).reshape(N,1),1) # normalisation\n",
    "    Pi = Pi/Pi.sum()\n",
    "    return Pi , A, B\n",
    "\n",
    "def viterbi(x,Pi,A,B):\n",
    "    T = len(x)\n",
    "    N = len(Pi)\n",
    "    logA = np.log(A)\n",
    "    logB = np.log(B)\n",
    "    logdelta = np.zeros((N,T))\n",
    "    psi = np.zeros((N,T), dtype=int)\n",
    "    S = np.zeros(T)\n",
    "    logdelta[:,0] = np.log(Pi) + logB[:,int(x[0])]\n",
    "    #forward\n",
    "    for t in range(1,T):\n",
    "        logdelta[:,t] = (logdelta[:,t-1].reshape(N,1) + logA).max(0) + logB[:,int(x[t])]\n",
    "        psi[:,t] = (logdelta[:,t-1].reshape(N,1) + logA).argmax(0)\n",
    "    # backward\n",
    "    logp = logdelta[:,-1].max()\n",
    "    S[T-1] = logdelta[:,-1].argmax()\n",
    "    for i in range(2,T+1):\n",
    "        S[int(T-i)] = psi[int(S[int(T-i+1)]),int(T-i+1)]\n",
    "    return S, logp #, delta, psi\n",
    " "
   ]
  },
  {
   "cell_type": "code",
   "execution_count": 126,
   "metadata": {},
   "outputs": [
    {
     "name": "stdout",
     "output_type": "stream",
     "text": [
      "23625 9  in the dictionary\n"
     ]
    }
   ],
   "source": [
    "# alldocs etant issu du chargement des données\n",
    "# la mise en forme des données est fournie ici\n",
    "# afin de produire des analyses qualitative, vous devez malgré tout comprendre le fonctionnement des dictionnaires\n",
    "\n",
    "buf = [[m for m,pos in d ] for d in alldocs]\n",
    "mots = []\n",
    "[mots.extend(b) for b in buf]\n",
    "mots = np.unique(np.array(mots))\n",
    "nMots = len(mots)+1 # mot inconnu\n",
    "\n",
    "mots2ind = dict(zip(mots,range(len(mots))))\n",
    "mots2ind[\"UUUUUUUU\"] = len(mots)\n",
    "\n",
    "buf2 = [[pos for m,pos in d ] for d in alldocs]\n",
    "cles = []\n",
    "[cles.extend(b) for b in buf2]\n",
    "cles = np.unique(np.array(cles))\n",
    "cles2ind = dict(zip(cles,range(len(cles))))\n",
    "\n",
    "nCles = len(cles)\n",
    "\n",
    "print(nMots,nCles,\" in the dictionary\")\n",
    "\n",
    "# mise en forme des données\n",
    "allx  = [[mots2ind[m] for m,pos in d] for d in alldocs]\n",
    "allxT = [[mots2ind.setdefault(m,len(mots)) for m,pos in d] for d in alldocsT]\n",
    "\n",
    "allq  = [[cles2ind[pos] for m,pos in d] for d in alldocs]\n",
    "allqT = [[cles2ind.setdefault(pos,len(cles)) for m,pos in d] for d in alldocsT]"
   ]
  },
  {
   "cell_type": "code",
   "execution_count": 127,
   "metadata": {},
   "outputs": [
    {
     "data": {
      "text/plain": [
       "38958"
      ]
     },
     "execution_count": 127,
     "metadata": {},
     "output_type": "execute_result"
    }
   ],
   "source": [
    "# Construction du dictionnaire \n",
    "        \n",
    "dico = {alldocs[i][j][0]:alldocs[i][j][1] for i in range (len(alldocs)) for j in range (len(alldocs[i]))}\n",
    "\n",
    "# evaluation des performances en test (et en apprentissage)\n",
    "res = 0\n",
    "for alldoc in alldocsT:\n",
    "    for t in alldoc:\n",
    "        if t[1] == dico.get(t[0]):\n",
    "            res+=1          \n",
    "res"
   ]
  },
  {
   "cell_type": "code",
   "execution_count": 134,
   "metadata": {},
   "outputs": [
    {
     "data": {
      "text/plain": [
       "46665"
      ]
     },
     "execution_count": 134,
     "metadata": {},
     "output_type": "execute_result"
    }
   ],
   "source": [
    "np.sum([len(alldoc) for alldoc in alldocsT])"
   ]
  },
  {
   "cell_type": "code",
   "execution_count": 136,
   "metadata": {},
   "outputs": [
    {
     "data": {
      "text/plain": [
       "0.8348441015750563"
      ]
     },
     "execution_count": 136,
     "metadata": {},
     "output_type": "execute_result"
    }
   ],
   "source": [
    "38958/46665"
   ]
  },
  {
   "cell_type": "code",
   "execution_count": 137,
   "metadata": {},
   "outputs": [],
   "source": [
    "# application des HMM sur ces données\n",
    "\n",
    "Pi, A, B = learnHMM(allx, allq, nCles, nMots, initTo1=True, eps = 1.05e-1)"
   ]
  },
  {
   "cell_type": "code",
   "execution_count": 139,
   "metadata": {},
   "outputs": [
    {
     "name": "stdout",
     "output_type": "stream",
     "text": [
      "train 201698\n"
     ]
    },
    {
     "data": {
      "text/plain": [
       "42245"
      ]
     },
     "execution_count": 139,
     "metadata": {},
     "output_type": "execute_result"
    }
   ],
   "source": [
    "# décodage des séquences de train & calcul de performances\n",
    "print(\"train\",np.sum([np.sum(viterbi(allx[i],Pi,A,B)[0] == allq[i]) for i in range(len(allx))]))\n",
    "# décodage des séquences de test & calcul de performances\n",
    "np.sum([np.sum(viterbi(allxT[i],Pi,A,B)[0] == allqT[i]) for i in range(len(allxT))])"
   ]
  },
  {
   "cell_type": "code",
   "execution_count": 140,
   "metadata": {},
   "outputs": [
    {
     "data": {
      "image/png": "[encoded data removed]",
      "text/plain": [
       "<Figure size 1080x360 with 2 Axes>"
      ]
     },
     "metadata": {
      "needs_background": "light"
     },
     "output_type": "display_data"
    },
    {
     "name": "stdout",
     "output_type": "stream",
     "text": [
      "Wall time: 7min 8s\n"
     ]
    }
   ],
   "source": [
    "%%time\n",
    "liste_eps = np.arange(0.01,1,0.1)\n",
    "count = np.sum([len(allq[i]) for i in range(len(allx))])\n",
    "countT = np.sum([len(allqT[i]) for i in range(len(allxT))])\n",
    "\n",
    "fig, ax = plt.subplots(1,2,figsize=(15,5))\n",
    "ax[0].set_title('Score train')\n",
    "ax[1].set_title('Score test')\n",
    "ax[0].set_xlabel('eps')\n",
    "ax[1].set_xlabel('eps')\n",
    "ax[0].set_ylabel('Score')\n",
    "ax[1].set_ylabel('Score')\n",
    "\n",
    "for eps in liste_eps:\n",
    "    Pi, A, B = learnHMM(allx, allq, nCles, nMots, initTo1=True, eps=eps)\n",
    "    #Train\n",
    "    res = np.sum([np.sum(viterbi(allx[i],Pi,A,B)[0] == allq[i]) for i in range(len(allx))])\n",
    "    res /= count\n",
    "    ax[0].scatter(eps,res)\n",
    "    \n",
    "    #Test\n",
    "    res = np.sum([np.sum(viterbi(allxT[i],Pi,A,B)[0] == allqT[i]) for i in range(len(allxT))])\n",
    "    res /= countT\n",
    "    ax[1].scatter(eps,res)\n",
    "    \n",
    "plt.show()"
   ]
  },
  {
   "cell_type": "code",
   "execution_count": 131,
   "metadata": {},
   "outputs": [
    {
     "name": "stdout",
     "output_type": "stream",
     "text": [
      "Les enchainements probables sont :\n",
      "B-LOC -> O\n",
      "B-MISC -> O\n",
      "B-ORG -> O\n",
      "B-PER -> I-PER\n",
      "I-LOC -> O\n",
      "I-MISC -> O\n",
      "I-ORG -> O\n",
      "I-PER -> O\n",
      "O -> O\n"
     ]
    }
   ],
   "source": [
    "Pi, A, B = learnHMM(allx, allq, N = nCles, K = nMots, initTo1=True, eps=0.09)\n",
    "\n",
    "print(\"Les enchainements probables sont :\")\n",
    "for i in range(len(A)):\n",
    "    print(f\"{cles[i]} -> {cles[np.argmax(A[i])]}\")"
   ]
  },
  {
   "cell_type": "code",
   "execution_count": 143,
   "metadata": {},
   "outputs": [
    {
     "data": {
      "text/plain": [
       "<matplotlib.colorbar.Colorbar at 0x271723d7f48>"
      ]
     },
     "execution_count": 143,
     "metadata": {},
     "output_type": "execute_result"
    },
    {
     "data": {
      "image/png": "[encoded data removed]",
      "text/plain": [
       "<Figure size 576x576 with 2 Axes>"
      ]
     },
     "metadata": {
      "needs_background": "light"
     },
     "output_type": "display_data"
    }
   ],
   "source": [
    "plt.figure(figsize=(8,8))\n",
    "plt.xticks(np.arange(nCles),cles2ind.keys())\n",
    "plt.yticks(np.arange(nCles),cles2ind.keys())\n",
    "plt.xticks(rotation=90)\n",
    "plt.imshow(A)\n",
    "plt.colorbar()"
   ]
  },
  {
   "cell_type": "code",
   "execution_count": 149,
   "metadata": {},
   "outputs": [
    {
     "data": {
      "text/plain": [
       "<matplotlib.image.AxesImage at 0x27172c7ae08>"
      ]
     },
     "execution_count": 149,
     "metadata": {},
     "output_type": "execute_result"
    },
    {
     "data": {
      "image/png": "[encoded data removed]",
      "text/plain": [
       "<Figure size 504x504 with 1 Axes>"
      ]
     },
     "metadata": {
      "needs_background": "light"
     },
     "output_type": "display_data"
    }
   ],
   "source": [
    "matConf= np.zeros((len(cles2ind), len(cles2ind)))\n",
    "for i in range(len(allxT)): \n",
    "    s, m = viterbi(allxT[i], Pi, A,B) \n",
    "    for j in range(len(s)): \n",
    "        matConf[int(s[j])][allqT[i][j]]+=1 \n",
    "        \n",
    "plt.figure(figsize=(7,7))\n",
    "plt.xticks(np.arange(nCles),cles2ind.keys())\n",
    "plt.yticks(np.arange(nCles),cles2ind.keys())\n",
    "plt.xticks(rotation=90)\n",
    "#plt.imshow(matConf)\n",
    "plt.imshow(matConf-np.diag(np.diag(matConf)))"
   ]
  },
  {
   "cell_type": "markdown",
   "metadata": {},
   "source": [
    "# Outils de l'état de l'art\n",
    "\n",
    "Pour aller plus loin, ça vaut le coup de refaire les expériences avec des outils reconnus pour le leurs qualités:\n",
    "https://github.com/stanfordnlp/stanza/\n",
    "\n",
    "On dérive vite vers des réseaux de neurones... Qui relèvent plutot du M2 DAC."
   ]
  },
  {
   "cell_type": "code",
   "execution_count": null,
   "metadata": {},
   "outputs": [],
   "source": []
  }
 ],
 "metadata": {
  "kernelspec": {
   "display_name": "Python 3",
   "language": "python",
   "name": "python3"
  },
  "language_info": {
   "codemirror_mode": {
    "name": "ipython",
    "version": 3
   },
   "file_extension": ".py",
   "mimetype": "text/x-python",
   "name": "python",
   "nbconvert_exporter": "python",
   "pygments_lexer": "ipython3",
   "version": "3.7.9"
  }
 },
 "nbformat": 4,
 "nbformat_minor": 2
}
